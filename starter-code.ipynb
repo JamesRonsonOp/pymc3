{
  "nbformat": 4,
  "nbformat_minor": 0,
  "metadata": {
    "kernelspec": {
      "display_name": "Python 3",
      "language": "python",
      "name": "python3"
    },
    "language_info": {
      "codemirror_mode": {
        "name": "ipython",
        "version": 3
      },
      "file_extension": ".py",
      "mimetype": "text/x-python",
      "name": "python",
      "nbconvert_exporter": "python",
      "pygments_lexer": "ipython3",
      "version": "3.8.3"
    },
    "colab": {
      "name": "starter-code.ipynb",
      "provenance": []
    },
    "accelerator": "GPU"
  },
  "cells": [
    {
      "cell_type": "code",
      "metadata": {
        "id": "wXl34vCfIJW7"
      },
      "source": [
        ""
      ],
      "execution_count": null,
      "outputs": []
    },
    {
      "cell_type": "markdown",
      "metadata": {
        "id": "xfcj4Z8I0LkL"
      },
      "source": [
        "<img src=\"http://imgur.com/1ZcRyrc.png\" style=\"float: left; margin: 20px; height: 55px\"> \n",
        "# Lesson: PyMC & Bayesian Regression\n",
        "\n",
        "_Authors: Tim Book, Matt Brems, Noelle Brown_\n",
        "\n",
        "## LEARNING OBJECTIVES\n",
        "By the end of the lesson, students should be able to:\n",
        "- Define conjugacy.\n",
        "- Fit models in PyMC.\n",
        "- Interpret traceplots, posterior distributions, and posterior predictions.\n",
        "\n",
        "---\n",
        "\n",
        "## Recap\n",
        "Remember that parameters have distributions. In Bayesian statistics, our goal is to **find the posterior distribution of our parameter of interest**.\n",
        "\n",
        "<details><summary>In order to generate a posterior distribution, what are the two components we need?</summary>\n",
        "\n",
        "- Prior distribution summarizing our beliefs about the parameter before observing any data.\n",
        "- Likelihood function summarizing how our data were generated.\n",
        "</details>"
      ]
    },
    {
      "cell_type": "markdown",
      "metadata": {
        "id": "bqbZSR3D0LkN"
      },
      "source": [
        "## Why Bayes?\n",
        "There are several reasons why we would prefer to use a Bayesian technique over a frequentist one. What are they? (THREAD)\n",
        "\n",
        "<details>\n",
        "    <summary>What are some reasons to use Bayesian techniques?</summary>\n",
        "    \n",
        "* When you have prior knowledge of a situation (ie, you might no better than data suggests)\n",
        "* When you have small data that can benefit from additional subject matter expertise\n",
        "* When you want to be able to make advanced probabilistic statements that are unavailable to frequentist techniques\n",
        "</details>"
      ]
    },
    {
      "cell_type": "markdown",
      "metadata": {
        "id": "z4BHg66p0LkO"
      },
      "source": [
        "# Markov Chain Monte Carlo Methods"
      ]
    },
    {
      "cell_type": "markdown",
      "metadata": {
        "id": "m2NmBkvd0LkP"
      },
      "source": [
        "Monte Carlo simulations are used to model much more complicated things as well. In calculus, if you remember calculating the integral (area under the curve), you had to remember those nasty \"integration by parts\" formulas and \"u-substitution.\" Monte Carlo simulations make that [relatively trivial with computers](https://www.youtube.com/watch?v=GZXhGwCXct0)!\n",
        "\n",
        "You may remember that we discussed Monte Carlo simulations all the way back in the Introduction to Probability lesson. Some of the problems in the notebook included \"Suppose you roll three dice. What is the probability that the three dice are rolled in increasing order?\" and \"I flip my coin until I flip heads. I count up the number of coins I flipped and roll that many dice. What is the probability that the average roll will be between 3 and 4 (inclusive)?\"\n",
        "- These might be good probability problems to practice!\n",
        "\n",
        "Monte Carlo simulations aren't inherently Bayesian by themselves. But the way that `PyMC3` and most programs will find the posterior distribution of the parameter of interest will be to use Markov Chain Monte Carlo methods, or MCMC methods.\n",
        "\n",
        "## Primer on Markov Chain Monte Carlo Methods\n",
        "\n",
        "Here's a quick, three-minute run-down of Markov Chain Monte Carlo methods.\n",
        "\n",
        "There are three main components to MCMC Methods.\n",
        "- Monte Carlo Methods\n",
        "- Markov Chains\n",
        "- Acceptance-Rejection Sampling\n",
        "\n",
        "If we were to just generate random numbers without any rhyme or reason, we'd be doing basic Monte Carlo simulations.\n",
        "<img src=\"https://github.com/JamesRonsonOp/pymc3/blob/main/images/montecarlo.gif?raw=1\" alt=\"drawing\" width=\"500\"/>\n",
        "\n",
        "Suppose that, instead, we're still generating random numbers. However, this time, the last random number we generate influences the next random number we generate. This incorporates Markov chains.\n",
        "<img src=\"https://github.com/JamesRonsonOp/pymc3/blob/main/images/markovchain.gif?raw=1\" alt=\"drawing\" width=\"600\"/>\n",
        "\n",
        "The final component, \"acceptance-rejection sampling,\" will take each random sample and accept it or reject it, based on how \"good\" it is. The algorithm for doing this uses the prior and likelihood that you came up with to determine if this sample is \"good enough.\" The basic algorithm is called the [Metropolis-Hastings Algorithm](https://en.wikipedia.org/wiki/Metropolis%E2%80%93Hastings_algorithm).\n",
        "\n",
        "<img src=\"https://github.com/JamesRonsonOp/pymc3/blob/main/images/acceptancerejection.gif?raw=1\" alt=\"drawing\" width=\"550\"/>\n",
        "\n",
        "All of this will happen when you run `pymc3.sample()` below!"
      ]
    },
    {
      "cell_type": "markdown",
      "metadata": {
        "id": "hoYLaO8P0LkQ"
      },
      "source": [
        "---\n",
        "\n",
        "### Acceptance-Rejection Sampling\n",
        "\n",
        "- Acceptance-rejection sampling is a specific type of Monte Carlo sampling.\n",
        "\n",
        "- We’re going to sample some observation, then decide whether to keep it (accept it) or discard it (reject it). \n",
        "    - Specifically, we will accept these values a certain percentage of the time and reject a certain percentage of the time.\n",
        "\n",
        "- As our random walk moves about, we need some way to make sure that we’re moving in the right direction.\n",
        "    - If we are moving in the right direction, we’ll accept that sample.\n",
        "    - If we aren’t moving in the right direction, we may reject that sample.\n",
        "\n",
        "We’ll walk through a specific algorithm to accept/reject, called the [Metropolis-Hastings algorithm](https://en.wikipedia.org/wiki/Metropolis%E2%80%93Hastings_algorithm).\n",
        "- PyMC by default will implement a more sophisticated algorithm called the [No U-Turn Sampler](https://arxiv.org/abs/1111.4246).\n",
        "\n",
        "The Metropolis-Hastings algorithm allows us to, at each step, identify whether we are getting “hotter” or “colder.”\n",
        "\n",
        "#### Metropolis-Hastings Algorithm\n",
        "Part 1. Generate $\\theta_{proposal} \\sim N(\\theta_{t-1}, \\sigma)$.\n",
        "\n",
        "Part 2. Calculate the ratio of posterior probabilities $r = \\frac{P(\\theta_{proposal}|y)}{P(\\theta_{t-1}|y)}$.\n",
        "- Since we have specified the prior and the likelihood, we can just find the posterior probability of these specific values!\n",
        "- If $r \\ge 1$, then $\\theta_{proposal}$ is a likelier value for our posterior distribution than $\\theta_{t-1}$. You can think of this as \"we're heading in the right direction.\"\n",
        "- If $r < 1$, then $\\theta_{proposal}$ is not a likelier value for our posterior distribution than $\\theta_{t-1}$. You can think of this as \"we're heading in a direction of lower probability.\"\n",
        "\n",
        "Part 3. Calculate our acceptance probability $\\alpha = \\min\\{r,1\\}$.\n",
        "- This is the probability that we'll accept $\\theta_{proposal}$ as our new value $\\theta_t$.\n",
        "- If $r \\ge 1$, then $\\theta_{proposal}$ is a likelier value for our posterior distribution than $\\theta_{t-1}$ and our acceptance probability is 100%!\n",
        "- If $r < 1$, then $\\theta_{proposal}$ is not a likelier value for our posterior distribution than $\\theta_{t-1}$, so we may reject $\\theta_{proposal}$.\n",
        "\n",
        "Part 4. We want to get our computer to basically flip a coin with probability of success $\\alpha$ to determine whether or not we accept $\\theta_{proposal}$. We generate $U_t \\sim Uniform(0,1)$.\n",
        "- If $U_t \\le \\alpha$, then accept $\\theta_{proposal}$. (That is, $\\theta_t = \\theta_{proposal}$.)\n",
        "- If $U_t > \\alpha$, then reject $\\theta_{proposal}$. (That is, $\\theta_t = \\theta_{t-1}$.)\n",
        "\n",
        "Remember that we've already seen how Markov chains and Monte Carlo simulations can work together. Let's add the acceptance/rejection component to this!\n",
        "\n",
        "\n",
        "We will repeat this process a large number of times - the number of samples we generate with `pm.sample()`.\n",
        "\n",
        "Once we do this long enough and visually inspect traceplots to convince ourselves that we have “converged” to the posterior distribution of interest, we usually discard early samples (before we converged), then we store some large $n$ of the later samples.\n",
        "- We might run this multiple times (by setting `chains` > 1 in `PyMC`) to protect against converging to a local optimum.\n",
        "\n",
        "Once we have our sample of size $n$, we can conduct whatever inference we want on the posterior distribution of the parameter of interest.\n",
        "- Find the mean.\n",
        "- Find the median.\n",
        "- Find the 95% ‘highest posterior density.’\n",
        "- Find the variance."
      ]
    },
    {
      "cell_type": "code",
      "metadata": {
        "colab": {
          "base_uri": "https://localhost:8080/"
        },
        "id": "uEw-qUDd1EOB",
        "outputId": "471c3f5e-5d75-4dec-bd92-b69b2fcdd77b"
      },
      "source": [
        "! git clone https://github.com/JamesRonsonOp/pymc3.git"
      ],
      "execution_count": 2,
      "outputs": [
        {
          "output_type": "stream",
          "text": [
            "Cloning into 'pymc3'...\n",
            "remote: Enumerating objects: 35, done.\u001b[K\n",
            "remote: Counting objects: 100% (35/35), done.\u001b[K\n",
            "remote: Compressing objects: 100% (29/29), done.\u001b[K\n",
            "remote: Total 35 (delta 4), reused 31 (delta 4), pack-reused 0\u001b[K\n",
            "Unpacking objects: 100% (35/35), done.\n"
          ],
          "name": "stdout"
        }
      ]
    },
    {
      "cell_type": "code",
      "metadata": {
        "colab": {
          "base_uri": "https://localhost:8080/"
        },
        "id": "Ls3fQ9Fb0LkS",
        "outputId": "e51ca4b9-bc1c-4055-a89b-9e3aec54e59d"
      },
      "source": [
        "# Install pymc3\n",
        "!pip install pymc3 -U"
      ],
      "execution_count": 1,
      "outputs": [
        {
          "output_type": "stream",
          "text": [
            "Requirement already up-to-date: pymc3 in /usr/local/lib/python3.6/dist-packages (3.10.0)\n",
            "Requirement already satisfied, skipping upgrade: typing-extensions>=3.7.4 in /usr/local/lib/python3.6/dist-packages (from pymc3) (3.7.4.3)\n",
            "Requirement already satisfied, skipping upgrade: fastprogress>=0.2.0 in /usr/local/lib/python3.6/dist-packages (from pymc3) (1.0.0)\n",
            "Requirement already satisfied, skipping upgrade: dill in /usr/local/lib/python3.6/dist-packages (from pymc3) (0.3.3)\n",
            "Requirement already satisfied, skipping upgrade: contextvars; python_version < \"3.7\" in /usr/local/lib/python3.6/dist-packages (from pymc3) (2.4)\n",
            "Requirement already satisfied, skipping upgrade: theano-pymc==1.0.11 in /usr/local/lib/python3.6/dist-packages (from pymc3) (1.0.11)\n",
            "Requirement already satisfied, skipping upgrade: patsy>=0.5.1 in /usr/local/lib/python3.6/dist-packages (from pymc3) (0.5.1)\n",
            "Requirement already satisfied, skipping upgrade: numpy>=1.13.0 in /usr/local/lib/python3.6/dist-packages (from pymc3) (1.19.5)\n",
            "Requirement already satisfied, skipping upgrade: arviz>=0.9.0 in /usr/local/lib/python3.6/dist-packages (from pymc3) (0.11.1)\n",
            "Requirement already satisfied, skipping upgrade: pandas>=0.18.0 in /usr/local/lib/python3.6/dist-packages (from pymc3) (1.1.5)\n",
            "Requirement already satisfied, skipping upgrade: dataclasses; python_version < \"3.7\" in /usr/local/lib/python3.6/dist-packages (from pymc3) (0.8)\n",
            "Requirement already satisfied, skipping upgrade: scipy>=0.18.1 in /usr/local/lib/python3.6/dist-packages (from pymc3) (1.4.1)\n",
            "Requirement already satisfied, skipping upgrade: immutables>=0.9 in /usr/local/lib/python3.6/dist-packages (from contextvars; python_version < \"3.7\"->pymc3) (0.15)\n",
            "Requirement already satisfied, skipping upgrade: six in /usr/local/lib/python3.6/dist-packages (from patsy>=0.5.1->pymc3) (1.15.0)\n",
            "Requirement already satisfied, skipping upgrade: matplotlib>=3.0 in /usr/local/lib/python3.6/dist-packages (from arviz>=0.9.0->pymc3) (3.2.2)\n",
            "Requirement already satisfied, skipping upgrade: setuptools>=38.4 in /usr/local/lib/python3.6/dist-packages (from arviz>=0.9.0->pymc3) (53.0.0)\n",
            "Requirement already satisfied, skipping upgrade: packaging in /usr/local/lib/python3.6/dist-packages (from arviz>=0.9.0->pymc3) (20.9)\n",
            "Requirement already satisfied, skipping upgrade: xarray>=0.16.1 in /usr/local/lib/python3.6/dist-packages (from arviz>=0.9.0->pymc3) (0.16.2)\n",
            "Requirement already satisfied, skipping upgrade: netcdf4 in /usr/local/lib/python3.6/dist-packages (from arviz>=0.9.0->pymc3) (1.5.5.1)\n",
            "Requirement already satisfied, skipping upgrade: pytz>=2017.2 in /usr/local/lib/python3.6/dist-packages (from pandas>=0.18.0->pymc3) (2018.9)\n",
            "Requirement already satisfied, skipping upgrade: python-dateutil>=2.7.3 in /usr/local/lib/python3.6/dist-packages (from pandas>=0.18.0->pymc3) (2.8.1)\n",
            "Requirement already satisfied, skipping upgrade: pyparsing!=2.0.4,!=2.1.2,!=2.1.6,>=2.0.1 in /usr/local/lib/python3.6/dist-packages (from matplotlib>=3.0->arviz>=0.9.0->pymc3) (2.4.7)\n",
            "Requirement already satisfied, skipping upgrade: kiwisolver>=1.0.1 in /usr/local/lib/python3.6/dist-packages (from matplotlib>=3.0->arviz>=0.9.0->pymc3) (1.3.1)\n",
            "Requirement already satisfied, skipping upgrade: cycler>=0.10 in /usr/local/lib/python3.6/dist-packages (from matplotlib>=3.0->arviz>=0.9.0->pymc3) (0.10.0)\n",
            "Requirement already satisfied, skipping upgrade: cftime in /usr/local/lib/python3.6/dist-packages (from netcdf4->arviz>=0.9.0->pymc3) (1.4.1)\n"
          ],
          "name": "stdout"
        }
      ]
    },
    {
      "cell_type": "code",
      "metadata": {
        "id": "Q5BgmVsJ0LkU"
      },
      "source": [
        "# Import the necessary packages:\n",
        "\n",
        "import numpy as np\n",
        "import pandas as pd\n",
        "from scipy import stats\n",
        "import matplotlib.pyplot as plt\n",
        "\n",
        "import pymc3 as pm"
      ],
      "execution_count": 2,
      "outputs": []
    },
    {
      "cell_type": "markdown",
      "metadata": {
        "id": "uS022V2K0LkU"
      },
      "source": [
        "## Example 1: Skittles!\n",
        "In a snack-size pack of Skittles, you are concerned with getting an unfair amount of green Skittles (the worst flavor). You think there are about 20 skittles per pack. There are 5 different colors of Skittles. \n",
        "\n",
        "<img src=\"https://github.com/JamesRonsonOp/pymc3/blob/main/images/skittles.jpeg?raw=1\" style=\"height: 300px\"> \n",
        "\n",
        "How can we determine if we get an unfair amount of green Skittles?\n",
        "\n",
        "**A frequentist would...**\n",
        "- Open many snack-size packs of Skittles, and estimate $\\hat{p}$, the probability of getting a green skittle.\n",
        "- Conduct a hypothesis test to determine if $p = 0.2$.\n",
        "\n",
        "**A Bayesian would...**\n",
        "- Begin with a preconceived notion about $p$ (a prior). This prior reflects not just our belief, but the strength of our belief.\n",
        "- Open many snack-size packs of Skittles and record the results (the likelihood).\n",
        "- Obtain a posterior distribution for $p$ that combines our priors with our data.\n",
        "- Make statements about this posterior.\n",
        "\n",
        "What is the (posterior) distribution of the number of green skittles I might find in a pack?"
      ]
    },
    {
      "cell_type": "code",
      "metadata": {
        "id": "kuX7xmBd0LkV"
      },
      "source": [
        "# Import green skittle count data\n",
        "skits = pd.read_csv('/content/pymc3/datasets/skittles.csv')\n"
      ],
      "execution_count": 3,
      "outputs": []
    },
    {
      "cell_type": "markdown",
      "metadata": {
        "id": "hZpZQzDQ0LkV"
      },
      "source": [
        "### Step 1: Define our likelihood and priors\n",
        "\n",
        "We'll start with our priors. \n",
        "\n",
        "What do we know/believe about the percentage of green skittles we might find in a pack? "
      ]
    },
    {
      "cell_type": "markdown",
      "metadata": {
        "id": "fmIz5FjN0LkV"
      },
      "source": [
        "<details><summary>What distribution will be best for this?</summary>\n",
        "\n",
        "- The percentage of green skittles we might find in a pack is a number between 0 and 1.\n",
        "- The Beta distribution will be good here!\n",
        "</details>"
      ]
    },
    {
      "cell_type": "markdown",
      "metadata": {
        "id": "Q4CQUSRb0LkW"
      },
      "source": [
        "#### The Beta Distribution\n",
        "Recall that the beta distribution is a **continuous** distribution. It's often used in Bayesian statistics because it's one of the only continuous distributions that take values between 0 and 1. This makes it particularly convenient to use as a prior on probabilities.\n",
        "\n",
        "You can take a closer look at the Beta distribution [here](https://en.wikipedia.org/wiki/Beta_distribution)!\n",
        "\n",
        "If $X \\sim \\text{Beta}(a, b)$, then\n",
        "\n",
        "* $\\text{E}[X] = \\frac{a}{a + b}$\n",
        "* $\\text{Var}[X] = \\frac{ab}{(a + b)^2(a + b + 1)}$\n",
        "\n",
        "Also note: The $\\text{Beta}(1, 1)$ distribution is actually the $\\text{Uniform}(0, 1)$ distrubtion!\n",
        "\n",
        "Let's compute some beta means and variances. What do you think is a reasonable prior for our problem?"
      ]
    },
    {
      "cell_type": "markdown",
      "metadata": {
        "id": "4101mMcp0LkX"
      },
      "source": [
        "<details><summary>In my opinion, setting up your priors and likelihoods is the hardest part of Bayesian inference.</summary>\n",
        "\n",
        "![](https://github.com/JamesRonsonOp/pymc3/blob/main/images/modified_bayes.png?raw=1)\n",
        "\n",
        "</details>"
      ]
    },
    {
      "cell_type": "code",
      "metadata": {
        "id": "QDm7ffbc0LkX"
      },
      "source": [
        "def beta_stats(a, b):\n",
        "    mean_ = a / (a + b)\n",
        "    var_ = a*b / ((a + b)**2 * (a + b + 1))\n",
        "    return mean_, var_"
      ],
      "execution_count": 4,
      "outputs": []
    },
    {
      "cell_type": "code",
      "metadata": {
        "scrolled": true,
        "colab": {
          "base_uri": "https://localhost:8080/"
        },
        "id": "b34Amr2W0LkY",
        "outputId": "aeb91e59-596b-496c-a929-4383eea88b88"
      },
      "source": [
        "# We want the mean to be about 0.2 (20% of each flavor)\n",
        "# This is iterative. Trial and error the values inside beta_stats\n",
        "beta_stats( 1, 4)"
      ],
      "execution_count": 5,
      "outputs": [
        {
          "output_type": "execute_result",
          "data": {
            "text/plain": [
              "(0.2, 0.02666666666666667)"
            ]
          },
          "metadata": {
            "tags": []
          },
          "execution_count": 5
        }
      ]
    },
    {
      "cell_type": "code",
      "metadata": {
        "id": "h1nwHJ-Y0LkY"
      },
      "source": [
        ""
      ],
      "execution_count": 5,
      "outputs": []
    },
    {
      "cell_type": "code",
      "metadata": {
        "id": "K-xc0J2p0LkY"
      },
      "source": [
        "# Prior for percentage of green skittles we might find in a pack\n",
        "\n",
        "# p ~ Beta(1, 4)\n",
        "\n"
      ],
      "execution_count": 6,
      "outputs": []
    },
    {
      "cell_type": "markdown",
      "metadata": {
        "id": "cj7JWYzk0LkZ"
      },
      "source": [
        "<details><summary>We can also set a prior on the number of Skittles that are in a pack! What distribution will be best for this?</summary>\n",
        "\n",
        "- The number of Skittles in each pack is count data.\n",
        "- The Poisson distribution will work well here!\n",
        "</details>"
      ]
    },
    {
      "cell_type": "code",
      "metadata": {
        "id": "yRHT_ld80LkZ"
      },
      "source": [
        "# Prior for number of Skittles in a pack\n",
        "\n",
        "# N ~ Poisson(20)"
      ],
      "execution_count": 7,
      "outputs": []
    },
    {
      "cell_type": "markdown",
      "metadata": {
        "id": "S1CIiUxZ0LkZ"
      },
      "source": [
        "Now, let's define our likelihood. \n",
        "\n",
        "We are interested in seeing how many green Skittles are in a bag.\n",
        "\n",
        "There's a fixed number of Skittles in a bag. Each of those Skittles has some probability of being green or not green.\n",
        "We are looking to see if a Skittle is green or not in our bag. \n",
        "\n",
        "A good tip from [Bayesian Methods for Hackers:](https://nbviewer.jupyter.org/github/CamDavidsonPilon/Probabilistic-Programming-and-Bayesian-Methods-for-Hackers/blob/master/Chapter2_MorePyMC/Ch2_MorePyMC_PyMC3.ipynb)  \n",
        "> \"A good starting thought to Bayesian modeling is to think about how your data might have been generated. Position yourself in an omniscient position, and try to imagine how you would recreate the dataset.\""
      ]
    },
    {
      "cell_type": "markdown",
      "metadata": {
        "id": "2bLlDLVx0LkZ"
      },
      "source": [
        "<details><summary>What distribution will be best for this?</summary>\n",
        "\n",
        "- Each Skittle has some probability of being green and some probability of being not green.\n",
        "- The Binomial distribution will work here.\n",
        "</details>"
      ]
    },
    {
      "cell_type": "code",
      "metadata": {
        "id": "zUfe3lnR0Lka"
      },
      "source": [
        "# Likelihood\n",
        "\n",
        "# X ~ Binomial(N, p)\n",
        "\n"
      ],
      "execution_count": 8,
      "outputs": []
    },
    {
      "cell_type": "markdown",
      "metadata": {
        "id": "HR50zJbo0Lka"
      },
      "source": [
        "### MCMC Using PyMC3\n",
        "Markov chain Monte Carlo methods (commonly abbreviated MCMC methods) made conjugacy mostly unnecessary.\n",
        "\n",
        "![](https://github.com/JamesRonsonOp/pymc3/blob/main/images/pymc3-res.png?raw=1)\n",
        "\n",
        "[TL;DR](https://en.wikipedia.org/wiki/TL;DR) of MCMC: We use computers to take our prior and likelihood, then simulate a large number of samples from the posterior.\n",
        "- If I want to find the mean of my posterior distribution, then I can just do `np.mean(xs)`, where `xs` is my saved list of samples from my posterior.\n",
        "- If I want to find the median of my posterior distribution, then I can do `np.median(xs)`.\n",
        "- If I want to find the 95% [credible interval](http://www.statisticshowto.com/credible-interval/) for my parameter based on the posterior distribution of my parameter, then I can just find the 2.5th and 97.5th percentiles of `xs`!\n",
        "\n",
        "Today, we're going to use `PyMC3`, a Bayesian modeling library in Python that will enable us to use Markov chain Monte Carlo methods. Luckily, this is a package that is geared toward scientists, not necessarily statisticians. We'll be able to use what we currently know about Bayesian statistics to leverage this *really* powerful library."
      ]
    },
    {
      "cell_type": "markdown",
      "metadata": {
        "id": "4qRRtJEI0Lka"
      },
      "source": [
        "### The Situation:\n",
        "$$\n",
        "\\begin{align}\n",
        "    X | p &\\sim \\text{Binomial}(n, p) \\\\\n",
        "        p &\\sim \\text{Beta}(a, b)\n",
        "\\end{align}\n",
        "$$\n",
        "\n",
        "We've also observed a certain number of greens in our 20 bags (our data).\n",
        "\n",
        "### PyMC3 models live in \"contexts\" instead of \"objects\"\n",
        "That means they'll look something like this:\n",
        "\n",
        "```python\n",
        "with pm.Model() as model:\n",
        "    # Define priors\n",
        "    # Define likelihood\n",
        "    # Execute MCMC\n",
        "```"
      ]
    },
    {
      "cell_type": "markdown",
      "metadata": {
        "id": "SBaonwq-0Lka"
      },
      "source": [
        "### Step 2: Let's set this up in PyMC3!"
      ]
    },
    {
      "cell_type": "code",
      "metadata": {
        "colab": {
          "base_uri": "https://localhost:8080/",
          "height": 247
        },
        "id": "-qPejUAf0Lkb",
        "outputId": "ee751949-7262-4103-fab2-36005f7608d4"
      },
      "source": [
        "# Use PyMC3 to solve for the posterior distribution\n",
        "with pm.Model() as model:\n",
        "  # Priors\n",
        "  p = pm.Beta('p', 1, 4) # p - probability of getting a green skittle\n",
        "  N = pm.Poisson('N', 20) # N - number of skittles in a bag\n",
        "\n",
        "  # Likelihood\n",
        "X = pm.Binomial('X', N, p, observed= skits['n_greens'])\n",
        "\n",
        "  # Execute our MCMC\n",
        "  trace = pm.sample(draws = 4000)"
      ],
      "execution_count": 9,
      "outputs": [
        {
          "output_type": "stream",
          "text": [
            "/usr/local/lib/python3.6/dist-packages/pymc3/sampling.py:468: FutureWarning: In an upcoming release, pm.sample will return an `arviz.InferenceData` object instead of a `MultiTrace` by default. You can pass return_inferencedata=True or return_inferencedata=False to be safe and silence this warning.\n",
            "  FutureWarning,\n",
            "Sequential sampling (2 chains in 1 job)\n",
            "CompoundStep\n",
            ">NUTS: [p]\n",
            ">Metropolis: [N]\n"
          ],
          "name": "stderr"
        },
        {
          "output_type": "display_data",
          "data": {
            "text/html": [
              "\n",
              "    <div>\n",
              "        <style>\n",
              "            /* Turns off some styling */\n",
              "            progress {\n",
              "                /* gets rid of default border in Firefox and Opera. */\n",
              "                border: none;\n",
              "                /* Needs to be in here for Safari polyfill so background images work as expected. */\n",
              "                background-size: auto;\n",
              "            }\n",
              "            .progress-bar-interrupted, .progress-bar-interrupted::-webkit-progress-bar {\n",
              "                background: #F44336;\n",
              "            }\n",
              "        </style>\n",
              "      <progress value='5000' class='' max='5000' style='width:300px; height:20px; vertical-align: middle;'></progress>\n",
              "      100.00% [5000/5000 00:03<00:00 Sampling chain 0, 0 divergences]\n",
              "    </div>\n",
              "    "
            ],
            "text/plain": [
              "<IPython.core.display.HTML object>"
            ]
          },
          "metadata": {
            "tags": []
          }
        },
        {
          "output_type": "display_data",
          "data": {
            "text/html": [
              "\n",
              "    <div>\n",
              "        <style>\n",
              "            /* Turns off some styling */\n",
              "            progress {\n",
              "                /* gets rid of default border in Firefox and Opera. */\n",
              "                border: none;\n",
              "                /* Needs to be in here for Safari polyfill so background images work as expected. */\n",
              "                background-size: auto;\n",
              "            }\n",
              "            .progress-bar-interrupted, .progress-bar-interrupted::-webkit-progress-bar {\n",
              "                background: #F44336;\n",
              "            }\n",
              "        </style>\n",
              "      <progress value='5000' class='' max='5000' style='width:300px; height:20px; vertical-align: middle;'></progress>\n",
              "      100.00% [5000/5000 00:03<00:00 Sampling chain 1, 0 divergences]\n",
              "    </div>\n",
              "    "
            ],
            "text/plain": [
              "<IPython.core.display.HTML object>"
            ]
          },
          "metadata": {
            "tags": []
          }
        },
        {
          "output_type": "stream",
          "text": [
            "Sampling 2 chains for 1_000 tune and 4_000 draw iterations (2_000 + 8_000 draws total) took 7 seconds.\n",
            "The acceptance probability does not match the target. It is 0.910528799451474, but should be close to 0.8. Try to increase the number of tuning steps.\n",
            "The rhat statistic is larger than 1.05 for some parameters. This indicates slight problems during sampling.\n",
            "The estimated number of effective samples is smaller than 200 for some parameters.\n"
          ],
          "name": "stderr"
        }
      ]
    },
    {
      "cell_type": "code",
      "metadata": {
        "id": "2OzD02dC0Lkb"
      },
      "source": [
        "# Visualize the output\n",
        "# !pip install arviz\n",
        "# import arviz\n"
      ],
      "execution_count": 10,
      "outputs": []
    },
    {
      "cell_type": "code",
      "metadata": {
        "colab": {
          "base_uri": "https://localhost:8080/",
          "height": 270
        },
        "id": "akgUh7nyIMT6",
        "outputId": "c868bc2d-94e9-4df2-b1eb-a79c143b822f"
      },
      "source": [
        "with model:\n",
        "  pm.traceplot(trace)"
      ],
      "execution_count": 11,
      "outputs": [
        {
          "output_type": "display_data",
          "data": {
            "image/png": "[encoded data removed]",
            "text/plain": [
              "<Figure size 864x288 with 4 Axes>"
            ]
          },
          "metadata": {
            "tags": [],
            "needs_background": "light"
          }
        }
      ]
    },
    {
      "cell_type": "code",
      "metadata": {
        "colab": {
          "base_uri": "https://localhost:8080/"
        },
        "id": "chfEq0xd0Lkc",
        "outputId": "270c8071-a900-4f84-c7cd-3f41541eba08"
      },
      "source": [
        "# Expected mean that an individual skittle will be grean\n",
        "trace['p'].mean()"
      ],
      "execution_count": 12,
      "outputs": [
        {
          "output_type": "execute_result",
          "data": {
            "text/plain": [
              "0.24649012187129976"
            ]
          },
          "metadata": {
            "tags": []
          },
          "execution_count": 12
        }
      ]
    },
    {
      "cell_type": "code",
      "metadata": {
        "colab": {
          "base_uri": "https://localhost:8080/"
        },
        "id": "I4fcTSENJLbd",
        "outputId": "2a996987-b682-4f8f-e8ec-59fc24099909"
      },
      "source": [
        "trace['N'].mean()"
      ],
      "execution_count": 13,
      "outputs": [
        {
          "output_type": "execute_result",
          "data": {
            "text/plain": [
              "21.911125"
            ]
          },
          "metadata": {
            "tags": []
          },
          "execution_count": 13
        }
      ]
    },
    {
      "cell_type": "code",
      "metadata": {
        "id": "-T15GHiF0Lkc"
      },
      "source": [
        "# expected amount of green skittles is number of skittles in bag * prob of green\n",
        "mean_green = trace['N'] * trace['p']"
      ],
      "execution_count": 15,
      "outputs": []
    },
    {
      "cell_type": "code",
      "metadata": {
        "colab": {
          "base_uri": "https://localhost:8080/",
          "height": 265
        },
        "id": "XItezi960Lkc",
        "outputId": "ee67dcbb-7167-4a02-c80d-ac9dee6b1899"
      },
      "source": [
        "plt.hist(mean_green, bins=30);"
      ],
      "execution_count": 16,
      "outputs": [
        {
          "output_type": "display_data",
          "data": {
            "image/png": "[encoded data removed]",
            "text/plain": [
              "<Figure size 432x288 with 1 Axes>"
            ]
          },
          "metadata": {
            "tags": [],
            "needs_background": "light"
          }
        }
      ]
    },
    {
      "cell_type": "code",
      "metadata": {
        "colab": {
          "base_uri": "https://localhost:8080/"
        },
        "id": "v1JyBNfk0Lkd",
        "outputId": "252f1622-448f-4fce-a21f-9664811821f8"
      },
      "source": [
        "# What's the probability we will get an expected value of between 5 and 6 green skittles?\n",
        "np.mean((mean_green >= 5) & (mean_green <=6))"
      ],
      "execution_count": 19,
      "outputs": [
        {
          "output_type": "execute_result",
          "data": {
            "text/plain": [
              "0.648875"
            ]
          },
          "metadata": {
            "tags": []
          },
          "execution_count": 19
        }
      ]
    },
    {
      "cell_type": "markdown",
      "metadata": {
        "id": "ix5sIpJD0Lkd"
      },
      "source": [
        "## Example 2: Election Day\n",
        "\n",
        "Let's review the election example from the other day using polling data from [FiveThirtyEight](https://projects.fivethirtyeight.com/2020-election-forecast/). This time, we will look at the probability that Trump wins.\n",
        "\n",
        "Reminder: our polls gave us the following totals:\n",
        "\n",
        "```python\n",
        "n_biden = 7_616 # number of successes\n",
        "n_surveys = 14_995 # number of trials\n",
        "```"
      ]
    },
    {
      "cell_type": "code",
      "metadata": {
        "id": "PPg0SUkx0Lkd"
      },
      "source": [
        "# Here are the results of our polls.\n",
        "# 1 = Trump led the poll\n",
        "# 0 = Biden led the poll\n",
        "polls = np.array([1]*7379 + [0]*7616)"
      ],
      "execution_count": null,
      "outputs": []
    },
    {
      "cell_type": "markdown",
      "metadata": {
        "id": "uJxuqdDI0Lkd"
      },
      "source": [
        "### Step 1: Establish our priors and our likelihood\n",
        "\n",
        "Here we are looking for the percentage of votes Trump is likely to win in the election.\n",
        "\n",
        "An important thing to note is that there is no such thing as sample data for problems like this, since elections only ever happen once. This is why pollsters conduct polls - to gather information about what will _probably_ happen in the future. Polls aren't perfect though, and they also change over time. **We know through personal experience that most elections end up being very close to 50/50.**\n",
        "\n",
        "We can use the Beta distribution for our prior. We need a mean of .5 (because we expect the election to be 50/50).\n",
        "\n",
        "_Hint:_ The priors are as subjective as they can get here."
      ]
    },
    {
      "cell_type": "code",
      "metadata": {
        "id": "i8eDJ6Tg0Lke"
      },
      "source": [
        ""
      ],
      "execution_count": null,
      "outputs": []
    },
    {
      "cell_type": "code",
      "metadata": {
        "id": "zTQBXebL0Lke"
      },
      "source": [
        "# Prior\n"
      ],
      "execution_count": null,
      "outputs": []
    },
    {
      "cell_type": "code",
      "metadata": {
        "id": "V1h-7PoO0Lkf"
      },
      "source": [
        "# Likelihood\n"
      ],
      "execution_count": null,
      "outputs": []
    },
    {
      "cell_type": "markdown",
      "metadata": {
        "id": "DVwGwM0f0Lkf"
      },
      "source": [
        "### Step 2: Set up the PyMC3 model!"
      ]
    },
    {
      "cell_type": "code",
      "metadata": {
        "id": "XcwkcEFE0Lkg"
      },
      "source": [
        "# PyMC3 model\n"
      ],
      "execution_count": null,
      "outputs": []
    },
    {
      "cell_type": "code",
      "metadata": {
        "id": "M5dV7tfh0Lkg"
      },
      "source": [
        "# Traceplot\n"
      ],
      "execution_count": null,
      "outputs": []
    },
    {
      "cell_type": "code",
      "metadata": {
        "id": "YMzzzaeS0Lkh"
      },
      "source": [
        "# Expected value\n"
      ],
      "execution_count": null,
      "outputs": []
    },
    {
      "cell_type": "code",
      "metadata": {
        "scrolled": true,
        "id": "mMzwLDoU0Lkh"
      },
      "source": [
        "# Expected value that Trump will get more than 50% of the votes\n"
      ],
      "execution_count": null,
      "outputs": []
    },
    {
      "cell_type": "code",
      "metadata": {
        "scrolled": true,
        "id": "D_we8WfV0Lkh"
      },
      "source": [
        ""
      ],
      "execution_count": null,
      "outputs": []
    },
    {
      "cell_type": "markdown",
      "metadata": {
        "id": "1vftxFjC0Lkh"
      },
      "source": [
        "Remember that we didn't take any outside factors into account (which FiveThirtyEight does) or even talk about the electoral college. Read more about FiveThirtyEight's modeling [here](https://fivethirtyeight.com/features/how-fivethirtyeights-2020-presidential-forecast-works-and-whats-different-because-of-covid-19/)."
      ]
    },
    {
      "cell_type": "markdown",
      "metadata": {
        "id": "kubTF6X80Lki"
      },
      "source": [
        "## Example 3: Bayesian Regression for Pay Equity\n",
        "It is an often-recited statistic that women are paid about 77 cents per dollar a man makes for equal work. But how is this number (and others like it) calculated? We actually conduct a log-regression based on a person's legitimate skill level (ie, things such as education or years of experience that may legitimately contribute to you being paid more) and an indicator for the protected class. For example:\n",
        "\n",
        "$$ \\log W = \\beta_0 + \\beta_1\\text{skill} + \\beta_2\\text{class} $$\n",
        "\n",
        "After exponentiating both sides:\n",
        "\n",
        "$$ W = e^{\\beta_0 + \\beta_1\\text{skill}}e^{\\beta_2\\text{class}} $$\n",
        "\n",
        "Where $e^{\\beta_2\\text{class}}$ simplifies to:\n",
        "\n",
        "* $e^{\\beta_2}$ if you are the (potentially) discriminated class.\n",
        "* $e^0 = 1$ if you are not the (potentially) discriminated class.\n",
        "\n",
        "Thus, given a dataset of salaries at a company, we might seek to estimate $e^{\\beta_2\\text{class}}$ to prove/disprove pay equity discrimination. Using the power of Bayesian statistics, we can actually begin with a prior assumption of _no_ pay inequity in order to allow the data to contradict it if possible."
      ]
    },
    {
      "cell_type": "code",
      "metadata": {
        "id": "JWCAyyff0Lki"
      },
      "source": [
        "# Import wages data\n",
        "\n"
      ],
      "execution_count": null,
      "outputs": []
    },
    {
      "cell_type": "markdown",
      "metadata": {
        "id": "x95zN1Bx0Lki"
      },
      "source": [
        "### Step 1: What are the priors and likelihood?\n",
        "We actually have _four_ variables to set priors on here. Most of them we actually don't have any relevant prior information for. We might set these as **noninformative priors** - that is, priors that are incredibly vague and provide no information:\n",
        "\n",
        "* $\\beta_0$ and $\\beta_1$ - noninformative, we have no prior information.\n",
        "* $\\sigma$ - the model's variance - also noninformative, we have no good guesses.\n",
        "* $\\beta_2$ - the coefficient of protected class. We'll put a prior that assumes $\\beta_2 \\approx 0$ in order to assume innocence.\n",
        "\n",
        "For the likelihood, remember our parametrization of OLS as a GLM:\n",
        "\n",
        "$$Y = \\mathbf{x}^T\\beta + \\varepsilon$$\n",
        "\n",
        "where $\\varepsilon \\sim N(0, \\sigma)$, and so\n",
        "\n",
        "$$ Y \\sim N(\\mathbf{x}^T\\beta, \\sigma) $$\n",
        "\n",
        "So we can write \n",
        "\n",
        "$$ \\log W \\sim N(\\beta_0 + \\beta_1\\text{skill} + \\beta_2\\text{class}, \\sigma) $$"
      ]
    },
    {
      "cell_type": "code",
      "metadata": {
        "id": "lxJNUloe0Lki"
      },
      "source": [
        "# Priors\n",
        "\n",
        "\n",
        "# Likelihoods\n",
        "\n"
      ],
      "execution_count": null,
      "outputs": []
    },
    {
      "cell_type": "markdown",
      "metadata": {
        "id": "eO71FCbM0Lki"
      },
      "source": [
        "### Step 2: PyMC3 Setup"
      ]
    },
    {
      "cell_type": "code",
      "metadata": {
        "id": "h5hxj6ak0Lkj"
      },
      "source": [
        "# PyMC3 Model\n",
        "\n"
      ],
      "execution_count": null,
      "outputs": []
    },
    {
      "cell_type": "code",
      "metadata": {
        "id": "0hJl5Y_50Lkj"
      },
      "source": [
        "# Traceplot"
      ],
      "execution_count": null,
      "outputs": []
    },
    {
      "cell_type": "code",
      "metadata": {
        "id": "9gOqDAQA0Lkj"
      },
      "source": [
        "# exponentiate beta_2"
      ],
      "execution_count": null,
      "outputs": []
    },
    {
      "cell_type": "code",
      "metadata": {
        "id": "1nvd8pRx0Lkj"
      },
      "source": [
        "# expected value for e^beta_2"
      ],
      "execution_count": null,
      "outputs": []
    },
    {
      "cell_type": "code",
      "metadata": {
        "id": "IRi-7Sc20Lkk"
      },
      "source": [
        "# Interpret this"
      ],
      "execution_count": null,
      "outputs": []
    },
    {
      "cell_type": "code",
      "metadata": {
        "id": "_ZIYNFi60Lkk"
      },
      "source": [
        ""
      ],
      "execution_count": null,
      "outputs": []
    },
    {
      "cell_type": "code",
      "metadata": {
        "id": "3i3uHxxU0Lkk"
      },
      "source": [
        ""
      ],
      "execution_count": null,
      "outputs": []
    },
    {
      "cell_type": "markdown",
      "metadata": {
        "id": "VU5E8VTu0Lkk"
      },
      "source": [
        "### Compare to `statsmodels`."
      ]
    },
    {
      "cell_type": "code",
      "metadata": {
        "id": "_QHjsRnO0Lkk"
      },
      "source": [
        "import statsmodels.api as sm\n",
        "\n",
        "X = wages.loc[:, [\"skill\", \"class\"]]\n",
        "X = sm.add_constant(X)\n",
        "y = np.log(wages[\"wage\"])\n",
        "lm = sm.OLS(y,X).fit()\n",
        "lm.summary()"
      ],
      "execution_count": null,
      "outputs": []
    },
    {
      "cell_type": "code",
      "metadata": {
        "id": "hOI6PtJ50Lkl"
      },
      "source": [
        "# This was actually simulated to be 0.8\n",
        "np.exp(-0.1853)"
      ],
      "execution_count": null,
      "outputs": []
    }
  ]
}